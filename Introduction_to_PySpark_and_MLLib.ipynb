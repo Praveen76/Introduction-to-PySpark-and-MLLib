{
  "nbformat": 4,
  "nbformat_minor": 0,
  "metadata": {
    "kernelspec": {
      "display_name": "Python 3",
      "name": "python3"
    },
    "language_info": {
      "codemirror_mode": {
        "name": "ipython",
        "version": 3
      },
      "file_extension": ".py",
      "mimetype": "text/x-python",
      "name": "python",
      "nbconvert_exporter": "python",
      "pygments_lexer": "ipython3",
      "version": "3.8.5"
    },
    "colab": {
      "provenance": [],
      "machine_shape": "hm",
      "include_colab_link": true
    }
  },
  "cells": [
    {
      "cell_type": "markdown",
      "metadata": {
        "id": "view-in-github",
        "colab_type": "text"
      },
      "source": [
        "<a href=\"https://colab.research.google.com/github/Praveen76/Introduction-to-PySpark-and-MLLib/blob/main/Introduction_to_PySpark_and_MLLib.ipynb\" target=\"_parent\"><img src=\"https://colab.research.google.com/assets/colab-badge.svg\" alt=\"Open In Colab\"/></a>"
      ]
    },
    {
      "cell_type": "markdown",
      "metadata": {
        "id": "hJ-wAYVIhbzu"
      },
      "source": [
        "## Learning Objectives"
      ]
    },
    {
      "cell_type": "markdown",
      "metadata": {
        "id": "vnSM9v-nhbzv"
      },
      "source": [
        "At the end of the experiment, you will be able to\n",
        "\n",
        "* interact with Spark using python\n",
        "* understand Spark dataframes\n",
        "* implement linear regression using PySpark"
      ]
    },
    {
      "cell_type": "markdown",
      "metadata": {
        "id": "O3T1Tj2fhbzw"
      },
      "source": [
        "## Dataset"
      ]
    },
    {
      "cell_type": "markdown",
      "metadata": {
        "id": "m8LVD5gchbzw"
      },
      "source": [
        "The dataset chosen for this assignment is [Ecommerce customers](https://www.kaggle.com/srolka/ecommerce-customers). The dataset is made up of 500 records and 8 columns. It has customer information, such as e-mail, address, and their color avatar. Then it also has numerical value columns.\n",
        "\n",
        "* Avg Session Length: Average session of in-store style advice sessions\n",
        "* Time on App: Average time spent on App in minutes\n",
        "* Time on Website: Average time spent on Website in minutes\n",
        "* Length of Membership: How many years the customer has been a member.\n",
        "* Yearly Amount Spent\n",
        "\n",
        "Here, we will be using the first four features to perform linear regression using spark and predict Yearly Amount Spent by each customer."
      ]
    },
    {
      "cell_type": "markdown",
      "metadata": {
        "id": "jS6X9xQQhbzx"
      },
      "source": [
        "## Information"
      ]
    },
    {
      "cell_type": "markdown",
      "metadata": {
        "id": "FLUYa2jkhbzx"
      },
      "source": [
        "**Why do we need Spark?**\n",
        "\n",
        "Spark is one of the latest technologies being used to quickly and easily handle Big Data. Spark is an open-source distributed computing framework that promises a clean and pleasurable experience similar to that of Pandas, while scaling to large data sets via a distributed architecture under the hood.\n",
        "\n",
        "Apache Spark is a powerful cluster computing engine, therefore it is designed for fast computation of big data. Spark runs on Memory (RAM), and that makes the processing much faster than on Disk. It includes \"MLlib\" library to perform Machine Learning tasks using the Spark framework."
      ]
    },
    {
      "cell_type": "markdown",
      "metadata": {
        "id": "yP0oxBKKhbzx"
      },
      "source": [
        "## Introduction"
      ]
    },
    {
      "cell_type": "markdown",
      "metadata": {
        "id": "b-MIetu-hbzy"
      },
      "source": [
        "Apache Spark is known as a fast, easy to use and general engine for big data processing, with built-in modules for streaming, SQL, machine learning and graph processing. It’s well-known for its speed, ease of use, generality and the ability to run virtually everywhere. And even though Spark is one of the most asked tools for data engineers, also data scientists can benefit from Spark when doing exploratory data analysis, feature extraction, supervised learning and model evaluation.\n",
        "\n",
        "Spark is a platform for cluster computing that lets you spread data and computations over clusters with multiple nodes (think of each node as a separate computer). Splitting up your data makes it easier to work with very large datasets because each node only works with a small amount of data.\n",
        "\n",
        "As each node works on its own subset of the total data, it also carries out a part of the total calculations required, so that both data processing and computation are performed in parallel over the nodes in the cluster. It is a fact that parallel computation can make certain types of programming tasks much faster."
      ]
    },
    {
      "cell_type": "code",
      "source": [
        "import yaml\n",
        "import json\n",
        "import os\n",
        "from google.colab import drive\n",
        "\n",
        "# Mount Google Drive with force remount\n",
        "drive.mount('/content/drive', force_remount=True)\n",
        "\n",
        "\n",
        "# Load relevant API Keys\n",
        "file_path = '/content/drive/MyDrive/.API_KEYS/API_KEYS.yml'\n",
        "\n",
        "with open(file_path, 'r') as file:\n",
        "    api_keys = yaml.safe_load(file)\n",
        "\n",
        "\n",
        "# Extract Kaggle username and key\n",
        "aws_access_key_id = api_keys['AWS']['AWS_ACCESS_KEY_ID']\n",
        "aws_secret_access_key = api_keys['AWS']['AWS_SECRET_ACCESS_KEY']\n",
        "\n",
        "\n",
        "os.environ['AWS_ACCESS_KEY_ID']=aws_access_key_id\n",
        "os.environ['AWS_SECRET_ACCESS_KEY']=aws_secret_access_key\n",
        "del aws_access_key_id, aws_secret_access_key\n"
      ],
      "metadata": {
        "id": "im5zq1JHBfgJ",
        "outputId": "f8602b26-a048-4d6c-d1a1-e28bce57b3cd",
        "colab": {
          "base_uri": "https://localhost:8080/"
        }
      },
      "execution_count": 15,
      "outputs": [
        {
          "output_type": "stream",
          "name": "stdout",
          "text": [
            "Mounted at /content/drive\n"
          ]
        }
      ]
    },
    {
      "cell_type": "markdown",
      "source": [
        "### Setup Steps:"
      ],
      "metadata": {
        "id": "rKQ0Fvl_jNqU"
      }
    },
    {
      "cell_type": "markdown",
      "metadata": {
        "id": "dxCv5teXYANs"
      },
      "source": [
        "### Importing required packages"
      ]
    },
    {
      "cell_type": "code",
      "metadata": {
        "id": "ZB8vMNkUYANt"
      },
      "source": [
        "import matplotlib.pyplot as plt\n",
        "import seaborn as sns"
      ],
      "execution_count": 3,
      "outputs": []
    },
    {
      "cell_type": "markdown",
      "metadata": {
        "id": "4dwQCqpwhbzy"
      },
      "source": [
        "## PySpark"
      ]
    },
    {
      "cell_type": "markdown",
      "metadata": {
        "id": "GYVoE0nThbzz"
      },
      "source": [
        "PySpark is an interface for Apache Spark in Python. It not only allows you to write Spark applications using Python APIs, but also provides the PySpark shell for interactively analyzing your data in a distributed environment. PySpark supports most of Spark’s features such as Spark SQL, DataFrame, Streaming, MLlib (Machine Learning) and Spark Core.\n",
        "\n",
        "<figure>\n",
        "<img src='https://cdn.iisc.talentsprint.com/CDS/Images/pyspark_components.png' width = 700 px/>\n",
        "</figure>\n",
        "\n",
        "**Spark SQL and DataFrame**\n",
        "\n",
        "Spark SQL is a Spark module for structured data processing. It provides a programming abstraction called DataFrame and can also act as distributed SQL query engine.\n",
        "\n",
        "**Streaming**\n",
        "\n",
        "Running on top of Spark, the streaming feature in Apache Spark enables powerful interactive and analytical applications across both streaming and historical data, while inheriting Spark’s ease of use and fault tolerance characteristics.\n",
        "\n",
        "**MLlib**\n",
        "\n",
        "Built on top of Spark, MLlib is a scalable machine learning library that provides a uniform set of high-level APIs that help users create and tune practical machine learning pipelines.\n",
        "\n",
        "**Spark Core**\n",
        "\n",
        "Spark Core is the underlying general execution engine for the Spark platform that all other functionality is built on top of. It provides an RDD (Resilient Distributed Dataset) and in-memory computing capabilities."
      ]
    },
    {
      "cell_type": "markdown",
      "metadata": {
        "id": "tuVyxDSAhbzz"
      },
      "source": [
        "#### Install PySpark"
      ]
    },
    {
      "cell_type": "code",
      "metadata": {
        "id": "dpbyJFSZhbzz",
        "outputId": "e0a98a72-6b1b-4159-c273-a04e6beb584c",
        "colab": {
          "base_uri": "https://localhost:8080/"
        }
      },
      "source": [
        "!pip -q install pyspark"
      ],
      "execution_count": 5,
      "outputs": [
        {
          "output_type": "stream",
          "name": "stdout",
          "text": [
            "\u001b[2K     \u001b[90m━━━━━━━━━━━━━━━━━━━━━━━━━━━━━━━━━━━━━━━━\u001b[0m \u001b[32m317.0/317.0 MB\u001b[0m \u001b[31m3.1 MB/s\u001b[0m eta \u001b[36m0:00:00\u001b[0m\n",
            "\u001b[?25h  Preparing metadata (setup.py) ... \u001b[?25l\u001b[?25hdone\n",
            "  Building wheel for pyspark (setup.py) ... \u001b[?25l\u001b[?25hdone\n"
          ]
        }
      ]
    },
    {
      "cell_type": "markdown",
      "metadata": {
        "id": "1-JqQmojhbz0"
      },
      "source": [
        "#### Start a Spark Session"
      ]
    },
    {
      "cell_type": "markdown",
      "metadata": {
        "id": "Vju8S9ZWhbz0"
      },
      "source": [
        "Spark session is a combined entry point of a Spark application, which came into implementation from Spark 2.0. It provides a way to interact with various spark’s functionality with a lesser number of constructs. Instead of having spark context, hive context, SQL context, now everything is encapsulated in a Spark session."
      ]
    },
    {
      "cell_type": "code",
      "metadata": {
        "id": "bdlUo9HFhbz0",
        "outputId": "b8d3af72-24c0-487a-8536-cfe7d4186929",
        "colab": {
          "base_uri": "https://localhost:8080/",
          "height": 221
        }
      },
      "source": [
        "# Start spark session\n",
        "from pyspark.sql import SparkSession\n",
        "spark = SparkSession.builder.appName('LinearRegression').getOrCreate()\n",
        "spark"
      ],
      "execution_count": 6,
      "outputs": [
        {
          "output_type": "execute_result",
          "data": {
            "text/plain": [
              "<pyspark.sql.session.SparkSession at 0x79d407bd1090>"
            ],
            "text/html": [
              "\n",
              "            <div>\n",
              "                <p><b>SparkSession - in-memory</b></p>\n",
              "                \n",
              "        <div>\n",
              "            <p><b>SparkContext</b></p>\n",
              "\n",
              "            <p><a href=\"http://734b853f09e7:4040\">Spark UI</a></p>\n",
              "\n",
              "            <dl>\n",
              "              <dt>Version</dt>\n",
              "                <dd><code>v3.5.1</code></dd>\n",
              "              <dt>Master</dt>\n",
              "                <dd><code>local[*]</code></dd>\n",
              "              <dt>AppName</dt>\n",
              "                <dd><code>LinearRegression</code></dd>\n",
              "            </dl>\n",
              "        </div>\n",
              "        \n",
              "            </div>\n",
              "        "
            ]
          },
          "metadata": {},
          "execution_count": 6
        }
      ]
    },
    {
      "cell_type": "markdown",
      "metadata": {
        "id": "ryDcIBTYhbz1"
      },
      "source": [
        "### Data Processing using Pyspark"
      ]
    },
    {
      "cell_type": "markdown",
      "metadata": {
        "id": "qfm30-_ghbz1"
      },
      "source": [
        "#### Loading data into PySpark"
      ]
    },
    {
      "cell_type": "markdown",
      "metadata": {
        "id": "2YyXV9pthbz1"
      },
      "source": [
        "To load the dataset we will use the `read.csv` module.  The `inferSchema` parameter provided will enable Spark to automatically determine the data type for each column. Also, `header` and `sep` parameters are given as the dataset contains header, and values are separated using vertical bar."
      ]
    },
    {
      "cell_type": "code",
      "source": [
        "!pip install awscli\n",
        "!aws s3 cp s3://datasciencedataset/ecommerce_customers_.csv .\n"
      ],
      "metadata": {
        "id": "Z3cNIZVWGm7P",
        "outputId": "cc19062e-22a4-4690-94f0-b73b6673b48a",
        "colab": {
          "base_uri": "https://localhost:8080/"
        }
      },
      "execution_count": 17,
      "outputs": [
        {
          "output_type": "stream",
          "name": "stdout",
          "text": [
            "Requirement already satisfied: awscli in /usr/local/lib/python3.10/dist-packages (1.33.9)\n",
            "Requirement already satisfied: botocore==1.34.127 in /usr/local/lib/python3.10/dist-packages (from awscli) (1.34.127)\n",
            "Requirement already satisfied: docutils<0.17,>=0.10 in /usr/local/lib/python3.10/dist-packages (from awscli) (0.16)\n",
            "Requirement already satisfied: s3transfer<0.11.0,>=0.10.0 in /usr/local/lib/python3.10/dist-packages (from awscli) (0.10.1)\n",
            "Requirement already satisfied: PyYAML<6.1,>=3.10 in /usr/local/lib/python3.10/dist-packages (from awscli) (6.0.1)\n",
            "Requirement already satisfied: colorama<0.4.7,>=0.2.5 in /usr/local/lib/python3.10/dist-packages (from awscli) (0.4.6)\n",
            "Requirement already satisfied: rsa<4.8,>=3.1.2 in /usr/local/lib/python3.10/dist-packages (from awscli) (4.7.2)\n",
            "Requirement already satisfied: jmespath<2.0.0,>=0.7.1 in /usr/local/lib/python3.10/dist-packages (from botocore==1.34.127->awscli) (1.0.1)\n",
            "Requirement already satisfied: python-dateutil<3.0.0,>=2.1 in /usr/local/lib/python3.10/dist-packages (from botocore==1.34.127->awscli) (2.8.2)\n",
            "Requirement already satisfied: urllib3!=2.2.0,<3,>=1.25.4 in /usr/local/lib/python3.10/dist-packages (from botocore==1.34.127->awscli) (2.0.7)\n",
            "Requirement already satisfied: pyasn1>=0.1.3 in /usr/local/lib/python3.10/dist-packages (from rsa<4.8,>=3.1.2->awscli) (0.6.0)\n",
            "Requirement already satisfied: six>=1.5 in /usr/local/lib/python3.10/dist-packages (from python-dateutil<3.0.0,>=2.1->botocore==1.34.127->awscli) (1.16.0)\n",
            "download: s3://datasciencedataset/ecommerce_customers_.csv to ./ecommerce_customers_.csv\n"
          ]
        }
      ]
    },
    {
      "cell_type": "code",
      "metadata": {
        "id": "5g1oX-k0hbz2"
      },
      "source": [
        "df = spark.read.csv(\"ecommerce_customers_.csv\", sep = \"|\", header=True, inferSchema = True)           # creating spark data frame"
      ],
      "execution_count": 18,
      "outputs": []
    },
    {
      "cell_type": "markdown",
      "metadata": {
        "id": "fe2TqI_7hbz3"
      },
      "source": [
        "#### Data exploration with PySpark"
      ]
    },
    {
      "cell_type": "markdown",
      "metadata": {
        "id": "6MOtesQghbz3"
      },
      "source": [
        "* Display data types of dataframe columns"
      ]
    },
    {
      "cell_type": "code",
      "metadata": {
        "id": "z_xCliuMhbz4",
        "outputId": "039afc1f-bbe6-4ed6-bae8-34c3b3684394",
        "colab": {
          "base_uri": "https://localhost:8080/"
        }
      },
      "source": [
        "# Print the data types\n",
        "df.dtypes"
      ],
      "execution_count": 19,
      "outputs": [
        {
          "output_type": "execute_result",
          "data": {
            "text/plain": [
              "[('Email', 'string'),\n",
              " ('Address', 'string'),\n",
              " ('Avatar', 'string'),\n",
              " ('Avg Session Length', 'double'),\n",
              " ('Time on App', 'double'),\n",
              " ('Time on Website', 'double'),\n",
              " ('Length of Membership', 'double'),\n",
              " ('Yearly Amount Spent', 'double')]"
            ]
          },
          "metadata": {},
          "execution_count": 19
        }
      ]
    },
    {
      "cell_type": "markdown",
      "metadata": {
        "id": "EfpmyItPhbz4"
      },
      "source": [
        "* Display column details"
      ]
    },
    {
      "cell_type": "code",
      "metadata": {
        "id": "KOnGCTXZhbz4",
        "outputId": "552d05f8-b1e5-4181-e55b-f4267379b86f",
        "colab": {
          "base_uri": "https://localhost:8080/"
        }
      },
      "source": [
        "# Print the Schema of the DataFrame\n",
        "df.printSchema()"
      ],
      "execution_count": 20,
      "outputs": [
        {
          "output_type": "stream",
          "name": "stdout",
          "text": [
            "root\n",
            " |-- Email: string (nullable = true)\n",
            " |-- Address: string (nullable = true)\n",
            " |-- Avatar: string (nullable = true)\n",
            " |-- Avg Session Length: double (nullable = true)\n",
            " |-- Time on App: double (nullable = true)\n",
            " |-- Time on Website: double (nullable = true)\n",
            " |-- Length of Membership: double (nullable = true)\n",
            " |-- Yearly Amount Spent: double (nullable = true)\n",
            "\n"
          ]
        }
      ]
    },
    {
      "cell_type": "markdown",
      "metadata": {
        "id": "nRI0Hi6phbz5"
      },
      "source": [
        "* Display rows"
      ]
    },
    {
      "cell_type": "code",
      "metadata": {
        "id": "B4pNnsfwhbz5",
        "outputId": "74322c50-430f-4be2-f50f-c34686595109",
        "colab": {
          "base_uri": "https://localhost:8080/"
        }
      },
      "source": [
        "df.show(5)"
      ],
      "execution_count": 21,
      "outputs": [
        {
          "output_type": "stream",
          "name": "stdout",
          "text": [
            "+--------------------+--------------------+----------------+------------------+------------------+------------------+--------------------+-------------------+\n",
            "|               Email|             Address|          Avatar|Avg Session Length|       Time on App|   Time on Website|Length of Membership|Yearly Amount Spent|\n",
            "+--------------------+--------------------+----------------+------------------+------------------+------------------+--------------------+-------------------+\n",
            "|mstephenson@ferna...|835 Frank TunnelW...|          Violet| 34.49726772511229| 12.65565114916675| 39.57766801952616|  4.0826206329529615|  587.9510539684005|\n",
            "|   hduke@hotmail.com|4547 Archer Commo...|       DarkGreen| 31.92627202636016|11.109460728682564|37.268958868297744|    2.66403418213262|  392.2049334443264|\n",
            "|    pallen@yahoo.com|24645 Valerie Uni...|          Bisque|33.000914755642675|11.330278057777512|37.110597442120856|   4.104543202376424| 487.54750486747207|\n",
            "|riverarebecca@gma...|1414 David Throug...|     SaddleBrown| 34.30555662975554|13.717513665142507| 36.72128267790313|   3.120178782748092|  581.8523440352177|\n",
            "|mstephens@davidso...|14023 Rodriguez P...|MediumAquaMarine| 33.33067252364639|12.795188551078114| 37.53665330059473|   4.446308318351434|  599.4060920457634|\n",
            "+--------------------+--------------------+----------------+------------------+------------------+------------------+--------------------+-------------------+\n",
            "only showing top 5 rows\n",
            "\n"
          ]
        }
      ]
    },
    {
      "cell_type": "markdown",
      "metadata": {
        "id": "OicqJUYfhbz5"
      },
      "source": [
        "* Display total number of rows"
      ]
    },
    {
      "cell_type": "code",
      "metadata": {
        "id": "iVMYaotJhbz5",
        "outputId": "d3807352-a93f-430a-bce4-52791c5d6453",
        "colab": {
          "base_uri": "https://localhost:8080/"
        }
      },
      "source": [
        "df.count()"
      ],
      "execution_count": 22,
      "outputs": [
        {
          "output_type": "execute_result",
          "data": {
            "text/plain": [
              "500"
            ]
          },
          "metadata": {},
          "execution_count": 22
        }
      ]
    },
    {
      "cell_type": "markdown",
      "metadata": {
        "id": "IJLKs8i3hbz6"
      },
      "source": [
        "* Display column labels"
      ]
    },
    {
      "cell_type": "code",
      "metadata": {
        "id": "0CbPm_VUhbz6",
        "outputId": "bbb55a77-b951-4d0b-c35a-6b589af791d2",
        "colab": {
          "base_uri": "https://localhost:8080/"
        }
      },
      "source": [
        "df.columns"
      ],
      "execution_count": 23,
      "outputs": [
        {
          "output_type": "execute_result",
          "data": {
            "text/plain": [
              "['Email',\n",
              " 'Address',\n",
              " 'Avatar',\n",
              " 'Avg Session Length',\n",
              " 'Time on App',\n",
              " 'Time on Website',\n",
              " 'Length of Membership',\n",
              " 'Yearly Amount Spent']"
            ]
          },
          "metadata": {},
          "execution_count": 23
        }
      ]
    },
    {
      "cell_type": "markdown",
      "metadata": {
        "id": "Tbp-QZ3fhbz6"
      },
      "source": [
        "* Display specific columns"
      ]
    },
    {
      "cell_type": "code",
      "metadata": {
        "id": "uicyXLDAhbz6",
        "outputId": "a16b7efa-cc93-4674-ab15-9beb5ae42550",
        "colab": {
          "base_uri": "https://localhost:8080/"
        }
      },
      "source": [
        "columns = [\"Email\",\"Time on App\",\"Time on Website\"]\n",
        "df.select(columns).show(5)"
      ],
      "execution_count": 24,
      "outputs": [
        {
          "output_type": "stream",
          "name": "stdout",
          "text": [
            "+--------------------+------------------+------------------+\n",
            "|               Email|       Time on App|   Time on Website|\n",
            "+--------------------+------------------+------------------+\n",
            "|mstephenson@ferna...| 12.65565114916675| 39.57766801952616|\n",
            "|   hduke@hotmail.com|11.109460728682564|37.268958868297744|\n",
            "|    pallen@yahoo.com|11.330278057777512|37.110597442120856|\n",
            "|riverarebecca@gma...|13.717513665142507| 36.72128267790313|\n",
            "|mstephens@davidso...|12.795188551078114| 37.53665330059473|\n",
            "+--------------------+------------------+------------------+\n",
            "only showing top 5 rows\n",
            "\n"
          ]
        }
      ]
    },
    {
      "cell_type": "markdown",
      "metadata": {
        "id": "zyJyBM-Chbz6"
      },
      "source": [
        "* Display the statistics of dataframe"
      ]
    },
    {
      "cell_type": "code",
      "metadata": {
        "id": "qEcVV2Achbz7",
        "outputId": "ae653c92-8f4d-4e5a-dcbd-35e5d993e747",
        "colab": {
          "base_uri": "https://localhost:8080/"
        }
      },
      "source": [
        "df.describe().show()"
      ],
      "execution_count": 25,
      "outputs": [
        {
          "output_type": "stream",
          "name": "stdout",
          "text": [
            "+-------+-----------------+--------------------+-----------+------------------+------------------+------------------+--------------------+-------------------+\n",
            "|summary|            Email|             Address|     Avatar|Avg Session Length|       Time on App|   Time on Website|Length of Membership|Yearly Amount Spent|\n",
            "+-------+-----------------+--------------------+-----------+------------------+------------------+------------------+--------------------+-------------------+\n",
            "|  count|              500|                 500|        500|               500|               500|               500|                 500|                500|\n",
            "|   mean|             NULL|                NULL|       NULL| 33.05319351819619|12.052487937166134| 37.06044542094859|   3.533461555915055|  499.3140382585909|\n",
            "| stddev|             NULL|                NULL|       NULL|0.9925631110845354|0.9942156084725424|1.0104889067564033|  0.9992775024112585|   79.3147815497068|\n",
            "|    min|aaron04@yahoo.com|0001 Mack MillNor...|  AliceBlue|29.532428967057943| 8.508152176032603| 33.91384724758464|  0.2699010899842742| 256.67058229005585|\n",
            "|    max|zscott@wright.com|Unit 7502 Box 834...|YellowGreen| 36.13966248879052|15.126994288792467|40.005181638101895|   6.922689335035808|  765.5184619388373|\n",
            "+-------+-----------------+--------------------+-----------+------------------+------------------+------------------+--------------------+-------------------+\n",
            "\n"
          ]
        }
      ]
    },
    {
      "cell_type": "markdown",
      "metadata": {
        "id": "S7ncz4X2hbz7"
      },
      "source": [
        "* Display total distinct values in *Avatar* column"
      ]
    },
    {
      "cell_type": "code",
      "metadata": {
        "id": "u3IUdO7Ohbz7",
        "outputId": "4c4eee42-77a9-49d7-9091-5854b2427846",
        "colab": {
          "base_uri": "https://localhost:8080/"
        }
      },
      "source": [
        "# Distinct value count\n",
        "df.select('Avatar').distinct().count()"
      ],
      "execution_count": 26,
      "outputs": [
        {
          "output_type": "execute_result",
          "data": {
            "text/plain": [
              "138"
            ]
          },
          "metadata": {},
          "execution_count": 26
        }
      ]
    },
    {
      "cell_type": "markdown",
      "metadata": {
        "id": "tDwuxwbfhbz8"
      },
      "source": [
        "* Display count of distinct values in *Avatar* column"
      ]
    },
    {
      "cell_type": "code",
      "metadata": {
        "id": "up-ef7XNhbz8",
        "outputId": "aa3defbf-b202-4b83-a9f7-fb9ffa176c71",
        "colab": {
          "base_uri": "https://localhost:8080/"
        }
      },
      "source": [
        "df.groupby('Avatar').count().show(10)"
      ],
      "execution_count": 27,
      "outputs": [
        {
          "output_type": "stream",
          "name": "stdout",
          "text": [
            "+-----------+-----+\n",
            "|     Avatar|count|\n",
            "+-----------+-----+\n",
            "|ForestGreen|    2|\n",
            "|    DimGray|    4|\n",
            "|   SeaGreen|    4|\n",
            "|       Aqua|    6|\n",
            "|       Teal|    7|\n",
            "| DodgerBlue|    3|\n",
            "|  MintCream|    3|\n",
            "|      Khaki|    2|\n",
            "|  LightGray|    3|\n",
            "|  LightBlue|    2|\n",
            "+-----------+-----+\n",
            "only showing top 10 rows\n",
            "\n"
          ]
        }
      ]
    },
    {
      "cell_type": "markdown",
      "metadata": {
        "id": "W5bUrhKkhbz8"
      },
      "source": [
        "* Plot the count of distinct values in *Avatar* column"
      ]
    },
    {
      "cell_type": "code",
      "metadata": {
        "id": "fY39dnmohbz8",
        "outputId": "3d9ecfd2-223f-42bd-cb26-198f1aac34b2",
        "colab": {
          "base_uri": "https://localhost:8080/"
        }
      },
      "source": [
        "DF = df.groupby('Avatar').count().sort(\"count\", ascending= False)\n",
        "DF.show(8)"
      ],
      "execution_count": 28,
      "outputs": [
        {
          "output_type": "stream",
          "name": "stdout",
          "text": [
            "+------------+-----+\n",
            "|      Avatar|count|\n",
            "+------------+-----+\n",
            "| GreenYellow|    7|\n",
            "|        Teal|    7|\n",
            "|   SlateBlue|    7|\n",
            "|        Cyan|    7|\n",
            "|   CadetBlue|    7|\n",
            "|   PeachPuff|    6|\n",
            "|LightSkyBlue|    6|\n",
            "|      Purple|    6|\n",
            "+------------+-----+\n",
            "only showing top 8 rows\n",
            "\n"
          ]
        }
      ]
    },
    {
      "cell_type": "code",
      "source": [
        "plt.figure(figsize= (24,4))\n",
        "sns.barplot(data= DF.toPandas(), x= 'Avatar', y= 'count', hue=DF.toPandas()['Avatar'])\n",
        "plt.xticks(rotation= 90)\n",
        "plt.show()"
      ],
      "metadata": {
        "id": "QI4zfiip2P31",
        "outputId": "81106658-0d29-421d-a05b-292c08323895",
        "colab": {
          "base_uri": "https://localhost:8080/",
          "height": 362
        }
      },
      "execution_count": 29,
      "outputs": [
        {
          "output_type": "display_data",
          "data": {
            "text/plain": [
              "<Figure size 2400x400 with 1 Axes>"
            ],
            "image/png": "[encoded data removed]"
          },
          "metadata": {}
        }
      ]
    },
    {
      "cell_type": "markdown",
      "metadata": {
        "id": "WwFMYWqKhbz9"
      },
      "source": [
        "* Display average time spent on app by users having different *Avatar*"
      ]
    },
    {
      "cell_type": "code",
      "metadata": {
        "id": "2Wi64y0Qhbz9",
        "outputId": "2948edb3-6ffa-4a2c-c0b7-bb08828eba27",
        "colab": {
          "base_uri": "https://localhost:8080/"
        }
      },
      "source": [
        "df.groupby('Avatar').avg().select(['Avatar', 'avg(Time on App)']).show(5)"
      ],
      "execution_count": 30,
      "outputs": [
        {
          "output_type": "stream",
          "name": "stdout",
          "text": [
            "+-----------+------------------+\n",
            "|     Avatar|  avg(Time on App)|\n",
            "+-----------+------------------+\n",
            "|ForestGreen|11.801835104426386|\n",
            "|    DimGray|12.013773141157184|\n",
            "|   SeaGreen|11.352012316138753|\n",
            "|       Aqua|12.207605304482167|\n",
            "|       Teal| 11.77888239909872|\n",
            "+-----------+------------------+\n",
            "only showing top 5 rows\n",
            "\n"
          ]
        }
      ]
    },
    {
      "cell_type": "markdown",
      "metadata": {
        "id": "dcCKpLhYhbz-"
      },
      "source": [
        "* Display the records where average time spent on website by user is greater than 37 minutes"
      ]
    },
    {
      "cell_type": "code",
      "metadata": {
        "id": "nLD3pmpQhbz-",
        "outputId": "7fa72d23-a9a3-4333-e834-01aee26e453e",
        "colab": {
          "base_uri": "https://localhost:8080/"
        }
      },
      "source": [
        "df.filter(df['Time on Website'] > 37).show(5)"
      ],
      "execution_count": 31,
      "outputs": [
        {
          "output_type": "stream",
          "name": "stdout",
          "text": [
            "+--------------------+--------------------+----------------+------------------+------------------+------------------+--------------------+-------------------+\n",
            "|               Email|             Address|          Avatar|Avg Session Length|       Time on App|   Time on Website|Length of Membership|Yearly Amount Spent|\n",
            "+--------------------+--------------------+----------------+------------------+------------------+------------------+--------------------+-------------------+\n",
            "|mstephenson@ferna...|835 Frank TunnelW...|          Violet| 34.49726772511229| 12.65565114916675| 39.57766801952616|  4.0826206329529615|  587.9510539684005|\n",
            "|   hduke@hotmail.com|4547 Archer Commo...|       DarkGreen| 31.92627202636016|11.109460728682564|37.268958868297744|    2.66403418213262|  392.2049334443264|\n",
            "|    pallen@yahoo.com|24645 Valerie Uni...|          Bisque|33.000914755642675|11.330278057777512|37.110597442120856|   4.104543202376424| 487.54750486747207|\n",
            "|mstephens@davidso...|14023 Rodriguez P...|MediumAquaMarine| 33.33067252364639|12.795188551078114| 37.53665330059473|   4.446308318351434|  599.4060920457634|\n",
            "|  awatkins@yahoo.com|Unit 6538 Box 898...|            Aqua|32.739142938380326| 12.35195897300293| 37.37335885854755|  4.4342734348999375|  549.9041461052942|\n",
            "+--------------------+--------------------+----------------+------------------+------------------+------------------+--------------------+-------------------+\n",
            "only showing top 5 rows\n",
            "\n"
          ]
        }
      ]
    },
    {
      "cell_type": "markdown",
      "metadata": {
        "id": "-nB82Y8vhbz-"
      },
      "source": [
        "* Display the minimum Yearly Amount Spent where average time spent on website by user is greater than 39 minutes"
      ]
    },
    {
      "cell_type": "code",
      "metadata": {
        "id": "V7caT8Lvhbz_",
        "outputId": "7f0c956f-682a-4f59-cebf-7a68b2863cc0",
        "colab": {
          "base_uri": "https://localhost:8080/"
        }
      },
      "source": [
        "from pyspark.sql.functions import col, min\n",
        "df.filter(col('Time on Website')>39).agg(min('Yearly Amount Spent')).show()"
      ],
      "execution_count": 32,
      "outputs": [
        {
          "output_type": "stream",
          "name": "stdout",
          "text": [
            "+------------------------+\n",
            "|min(Yearly Amount Spent)|\n",
            "+------------------------+\n",
            "|      350.05820016384513|\n",
            "+------------------------+\n",
            "\n"
          ]
        }
      ]
    },
    {
      "cell_type": "markdown",
      "metadata": {
        "id": "S1hUIVRAhbz_"
      },
      "source": [
        "* Display the records where average time spent on app by user is greater than 12 minutes and average time spent on website is smaller than 37 minutes"
      ]
    },
    {
      "cell_type": "code",
      "metadata": {
        "id": "tJ-Hib-Bhbz_",
        "outputId": "f20275a2-0673-4e8e-c1c2-9c1ff62506e1",
        "colab": {
          "base_uri": "https://localhost:8080/"
        }
      },
      "source": [
        "from pyspark.sql.functions import col\n",
        "df.filter((col('Time on App')>12) &(col('Time on Website') < 37)).show(10, truncate=False)"
      ],
      "execution_count": 33,
      "outputs": [
        {
          "output_type": "stream",
          "name": "stdout",
          "text": [
            "+-----------------------------+------------------------------------------------------+-----------+------------------+------------------+------------------+--------------------+-------------------+\n",
            "|Email                        |Address                                               |Avatar     |Avg Session Length|Time on App       |Time on Website   |Length of Membership|Yearly Amount Spent|\n",
            "+-----------------------------+------------------------------------------------------+-----------+------------------+------------------+------------------+--------------------+-------------------+\n",
            "|riverarebecca@gmail.com      |1414 David ThroughwayPort Jason, OH 22070-1220        |SaddleBrown|34.30555662975554 |13.717513665142507|36.72128267790313 |3.120178782748092   |581.8523440352177  |\n",
            "|alvareznancy@lucas.biz       |645 Martha Park Apt. 611Jeffreychester, MN 67218-7250 |FloralWhite|33.871037879341976|12.026925339755056|34.47687762925054 |5.493507201364199   |637.102447915074   |\n",
            "|wrightpeter@yahoo.com        |05302 Dunlap FerryNew Stephaniehaven, MP 42268        |Bisque     |33.19033404372265 |12.959226091609382|36.144666700041924|3.918541839158999   |573.4158673313865  |\n",
            "|taylormason@gmail.com        |7773 Powell Springs Suite 190Samanthaland, ND 44358   |DarkBlue   |32.387975853153876|13.148725692056516|36.61995708279922 |2.494543646659249   |470.4527333009554  |\n",
            "|jstark@anderson.com          |49558 Ramirez Road Suite 399Phillipstad, OH 35641-3238|Peru       |30.737720372628182|12.636606052000127|36.213763093698624|3.3578468423262944  |461.7807421962299  |\n",
            "|ijones@schaefer-carr.net     |657 Judith CrossroadHancockchester, VI 75658-5788     |Linen      |33.54123131310037 |12.783891784275019|36.430649621049305|4.6481993164286015  |619.8956398616367  |\n",
            "|jenniferbarnett@gmail.com    |0772 Michael Isle Suite 617Meyerstown, WA 45449-6768  |SeaGreen   |33.24190043446127 |12.305417813429447|36.16364817104465 |3.0623681453116887  |497.5866713004408  |\n",
            "|briancarlson@page-fleming.com|USCGC GillFPO AA 26496                                |DarkMagenta|32.175501237949376|13.387492105579696|35.69417498569782 |4.343062915388998   |588.7126055095755  |\n",
            "|teresaallen@hill-leach.info  |1958 Robert Bridge Apt. 250Malloryland, ID 03393-5336 |WhiteSmoke |32.567230480275114|12.489013215743663|36.371479814068536|4.22243622534277    |537.8461952695957  |\n",
            "|christopher20@gmail.com      |USNV FullerFPO AE 32122-5711                          |Snow       |32.04448612744043 |13.414934735851688|36.11243501077792 |2.2586863869468434  |448.22982918655    |\n",
            "+-----------------------------+------------------------------------------------------+-----------+------------------+------------------+------------------+--------------------+-------------------+\n",
            "only showing top 10 rows\n",
            "\n"
          ]
        }
      ]
    },
    {
      "cell_type": "markdown",
      "metadata": {
        "id": "LORVLYUMhb0A"
      },
      "source": [
        "To know more about other `pyspark.sql.functions` operation click [here](https://spark.apache.org/docs/2.4.0/api/python/pyspark.sql.html#module-pyspark.sql.functions)."
      ]
    },
    {
      "cell_type": "markdown",
      "metadata": {
        "id": "qI55eNtchb0A"
      },
      "source": [
        "### Linear Regression Model"
      ]
    },
    {
      "cell_type": "markdown",
      "metadata": {
        "id": "0SQI5Rq3hb0A"
      },
      "source": [
        "Linear Regression model is one of the oldest and widely used machine learning approach which assumes a relationship between dependent and independent variables. It consists of the best fitting line through the scattered points on the graph and this best fitting line is known as the regression line."
      ]
    },
    {
      "cell_type": "markdown",
      "metadata": {
        "id": "Ij78EczBhb0B"
      },
      "source": [
        "#### Setting Up DataFrame for Model"
      ]
    },
    {
      "cell_type": "markdown",
      "metadata": {
        "id": "exKHqPx4hb0B"
      },
      "source": [
        "For Spark to accept the data, it needs to be in the form of two columns (\"labels\", \"features\")\n",
        "\n",
        "* Features are data points of all the attributes to be used for prediction\n",
        "* Labels are output for each data point\n",
        "* We will be predicting Label from Features"
      ]
    },
    {
      "cell_type": "markdown",
      "metadata": {
        "id": "aCZCS-R4hb0B"
      },
      "source": [
        "For the linear regression model, we need to import two modules from Pyspark i.e. Vector Assembler and Linear Regression. Vector Assembler is a transformer that assembles all the features into one vector from multiple columns that contain type double.\n",
        "\n",
        "To know more about vector assembler click [here](https://spark.apache.org/docs/2.1.0/ml-features.html#vectorassembler)."
      ]
    },
    {
      "cell_type": "code",
      "metadata": {
        "id": "3gHmgn46hb0C"
      },
      "source": [
        "from pyspark.ml.feature import VectorAssembler\n",
        "from pyspark.ml.regression import LinearRegression"
      ],
      "execution_count": 34,
      "outputs": []
    },
    {
      "cell_type": "code",
      "metadata": {
        "id": "S26ufGiZhb0C"
      },
      "source": [
        "assembler = VectorAssembler(\n",
        "                            inputCols= [\"Avg Session Length\", \"Time on App\", \"Time on Website\",'Length of Membership'],\n",
        "                            outputCol= \"features\")       # features is the name of output columns which combines all the columns"
      ],
      "execution_count": 35,
      "outputs": []
    },
    {
      "cell_type": "code",
      "metadata": {
        "id": "i9umLjr7hb0C"
      },
      "source": [
        "output = assembler.transform(df)            # A new column 'features' will be created along with the existing columns\n",
        "                                            # features column will include all the values combined in one list"
      ],
      "execution_count": 36,
      "outputs": []
    },
    {
      "cell_type": "code",
      "metadata": {
        "id": "WOxDfY4uhb0D",
        "outputId": "7273f1e5-91de-410e-cffd-1bc291c4a016",
        "colab": {
          "base_uri": "https://localhost:8080/"
        }
      },
      "source": [
        "output.show(10)"
      ],
      "execution_count": 37,
      "outputs": [
        {
          "output_type": "stream",
          "name": "stdout",
          "text": [
            "+--------------------+--------------------+----------------+------------------+------------------+------------------+--------------------+-------------------+--------------------+\n",
            "|               Email|             Address|          Avatar|Avg Session Length|       Time on App|   Time on Website|Length of Membership|Yearly Amount Spent|            features|\n",
            "+--------------------+--------------------+----------------+------------------+------------------+------------------+--------------------+-------------------+--------------------+\n",
            "|mstephenson@ferna...|835 Frank TunnelW...|          Violet| 34.49726772511229| 12.65565114916675| 39.57766801952616|  4.0826206329529615|  587.9510539684005|[34.4972677251122...|\n",
            "|   hduke@hotmail.com|4547 Archer Commo...|       DarkGreen| 31.92627202636016|11.109460728682564|37.268958868297744|    2.66403418213262|  392.2049334443264|[31.9262720263601...|\n",
            "|    pallen@yahoo.com|24645 Valerie Uni...|          Bisque|33.000914755642675|11.330278057777512|37.110597442120856|   4.104543202376424| 487.54750486747207|[33.0009147556426...|\n",
            "|riverarebecca@gma...|1414 David Throug...|     SaddleBrown| 34.30555662975554|13.717513665142507| 36.72128267790313|   3.120178782748092|  581.8523440352177|[34.3055566297555...|\n",
            "|mstephens@davidso...|14023 Rodriguez P...|MediumAquaMarine| 33.33067252364639|12.795188551078114| 37.53665330059473|   4.446308318351434|  599.4060920457634|[33.3306725236463...|\n",
            "|alvareznancy@luca...|645 Martha Park A...|     FloralWhite|33.871037879341976|12.026925339755056| 34.47687762925054|   5.493507201364199|   637.102447915074|[33.8710378793419...|\n",
            "|katherine20@yahoo...|68388 Reyes Light...|   DarkSlateBlue| 32.02159550138701|11.366348309710526| 36.68377615286961|   4.685017246570912|  521.5721747578274|[32.0215955013870...|\n",
            "|  awatkins@yahoo.com|Unit 6538 Box 898...|            Aqua|32.739142938380326| 12.35195897300293| 37.37335885854755|  4.4342734348999375|  549.9041461052942|[32.7391429383803...|\n",
            "|vchurch@walter-ma...|860 Lee KeyWest D...|          Salmon| 33.98777289568564|13.386235275676436|37.534497341555735|  3.2734335777477144|  570.2004089636196|[33.9877728956856...|\n",
            "|    bonnie69@lin.biz|PSC 2734, Box 525...|           Brown|31.936548618448917|11.814128294972196| 37.14516822352819|   3.202806071553459|  427.1993848953282|[31.9365486184489...|\n",
            "+--------------------+--------------------+----------------+------------------+------------------+------------------+--------------------+-------------------+--------------------+\n",
            "only showing top 10 rows\n",
            "\n"
          ]
        }
      ]
    },
    {
      "cell_type": "code",
      "metadata": {
        "id": "5l3IvdYNhb0D",
        "outputId": "73d8d1f2-f39a-4cfa-b530-1c938b0e3f28",
        "colab": {
          "base_uri": "https://localhost:8080/"
        }
      },
      "source": [
        "output.select(\"features\").show(10, truncate= False)          # displays only the features column (which includes all other column values in a list)"
      ],
      "execution_count": 38,
      "outputs": [
        {
          "output_type": "stream",
          "name": "stdout",
          "text": [
            "+----------------------------------------------------------------------------+\n",
            "|features                                                                    |\n",
            "+----------------------------------------------------------------------------+\n",
            "|[34.49726772511229,12.65565114916675,39.57766801952616,4.0826206329529615]  |\n",
            "|[31.92627202636016,11.109460728682564,37.268958868297744,2.66403418213262]  |\n",
            "|[33.000914755642675,11.330278057777512,37.110597442120856,4.104543202376424]|\n",
            "|[34.30555662975554,13.717513665142507,36.72128267790313,3.120178782748092]  |\n",
            "|[33.33067252364639,12.795188551078114,37.53665330059473,4.446308318351434]  |\n",
            "|[33.871037879341976,12.026925339755056,34.47687762925054,5.493507201364199] |\n",
            "|[32.02159550138701,11.366348309710526,36.68377615286961,4.685017246570912]  |\n",
            "|[32.739142938380326,12.35195897300293,37.37335885854755,4.4342734348999375] |\n",
            "|[33.98777289568564,13.386235275676436,37.534497341555735,3.2734335777477144]|\n",
            "|[31.936548618448917,11.814128294972196,37.14516822352819,3.202806071553459] |\n",
            "+----------------------------------------------------------------------------+\n",
            "only showing top 10 rows\n",
            "\n"
          ]
        }
      ]
    },
    {
      "cell_type": "code",
      "metadata": {
        "id": "MsMl8o7Yhb0E"
      },
      "source": [
        "# Complete dataset is represented in 2 columns\n",
        "final_data = output.select(\"features\",'Yearly Amount Spent')"
      ],
      "execution_count": 39,
      "outputs": []
    },
    {
      "cell_type": "markdown",
      "metadata": {
        "id": "8dyT5lLehb0E"
      },
      "source": [
        "#### Splitting the data into Training and Test set"
      ]
    },
    {
      "cell_type": "code",
      "metadata": {
        "id": "cznY4s_Ahb0F"
      },
      "source": [
        "# Splitting the data in Train and Test set(70% training data, 30% testing data)\n",
        "train_data, test_data = final_data.randomSplit([0.7,0.3])"
      ],
      "execution_count": 40,
      "outputs": []
    },
    {
      "cell_type": "code",
      "metadata": {
        "id": "fQzau_Pvhb0F",
        "outputId": "c6d3b37b-b6d2-4d16-e86e-5cc5ff0efd35",
        "colab": {
          "base_uri": "https://localhost:8080/"
        }
      },
      "source": [
        "train_data.describe().show()"
      ],
      "execution_count": 41,
      "outputs": [
        {
          "output_type": "stream",
          "name": "stdout",
          "text": [
            "+-------+-------------------+\n",
            "|summary|Yearly Amount Spent|\n",
            "+-------+-------------------+\n",
            "|  count|                374|\n",
            "|   mean| 499.85018933367525|\n",
            "| stddev|  77.13342968524968|\n",
            "|    min| 256.67058229005585|\n",
            "|    max|  744.2218671047146|\n",
            "+-------+-------------------+\n",
            "\n"
          ]
        }
      ]
    },
    {
      "cell_type": "code",
      "metadata": {
        "id": "FrdTvsmVhb0F",
        "outputId": "1d67f187-05b7-4adf-e46f-8fe0b34c2806",
        "colab": {
          "base_uri": "https://localhost:8080/"
        }
      },
      "source": [
        "test_data.describe().show()"
      ],
      "execution_count": 42,
      "outputs": [
        {
          "output_type": "stream",
          "name": "stdout",
          "text": [
            "+-------+-------------------+\n",
            "|summary|Yearly Amount Spent|\n",
            "+-------+-------------------+\n",
            "|  count|                126|\n",
            "|   mean|  497.7226057023882|\n",
            "| stddev|  85.76767310590246|\n",
            "|    min|   266.086340948469|\n",
            "|    max|  765.5184619388373|\n",
            "+-------+-------------------+\n",
            "\n"
          ]
        }
      ]
    },
    {
      "cell_type": "markdown",
      "metadata": {
        "id": "LW62eB6Hhb0G"
      },
      "source": [
        "#### Create a Linear Regression Model object and fit on train data"
      ]
    },
    {
      "cell_type": "code",
      "metadata": {
        "id": "86V5LekMhb0G"
      },
      "source": [
        "regressor = LinearRegression(featuresCol=\"features\", labelCol=\"Yearly Amount Spent\")\n",
        "\n",
        "#Learn to fit the model from training set\n",
        "model = regressor.fit(train_data)"
      ],
      "execution_count": 43,
      "outputs": []
    },
    {
      "cell_type": "markdown",
      "metadata": {
        "id": "YVH4X80nhb0G"
      },
      "source": [
        "#### Predicting the Test set results"
      ]
    },
    {
      "cell_type": "code",
      "metadata": {
        "id": "DCrfunGbhb0G",
        "outputId": "fe9d79c3-8f73-4c03-ddb2-ee64a1d84e72",
        "colab": {
          "base_uri": "https://localhost:8080/"
        }
      },
      "source": [
        "predict = model.transform(test_data)\n",
        "\n",
        "predict.select(predict.columns[:]).show(10)"
      ],
      "execution_count": 44,
      "outputs": [
        {
          "output_type": "stream",
          "name": "stdout",
          "text": [
            "+--------------------+-------------------+------------------+\n",
            "|            features|Yearly Amount Spent|        prediction|\n",
            "+--------------------+-------------------+------------------+\n",
            "|[30.3931845423455...|  319.9288698031936|331.92335432668915|\n",
            "|[30.7377203726281...|  461.7807421962299| 451.2778627358475|\n",
            "|[30.8162006488763...|   266.086340948469| 283.8040318296771|\n",
            "|[30.8364326747734...|  467.5019004269896|471.82398954479686|\n",
            "|[31.1280900496166...|  557.2526867470547| 564.9715790954604|\n",
            "|[31.2606468698795...|  421.3266312569514|422.82707976876713|\n",
            "|[31.2834474760581...|  591.7810894256675| 569.3812590436955|\n",
            "|[31.3584771924370...|  495.1759504494754|491.39066620943845|\n",
            "|[31.3662121671876...|  430.5888825564849|426.95775528588524|\n",
            "|[31.4459724827577...| 484.87696493512857| 482.6901232961702|\n",
            "+--------------------+-------------------+------------------+\n",
            "only showing top 10 rows\n",
            "\n"
          ]
        }
      ]
    },
    {
      "cell_type": "markdown",
      "metadata": {
        "id": "VHlcdOtThb0G"
      },
      "source": [
        "#### Evaluating Model Performance"
      ]
    },
    {
      "cell_type": "code",
      "metadata": {
        "id": "41ftFH8Ohb0H",
        "outputId": "82d213a1-8348-454a-a01c-4b221ddbcc06",
        "colab": {
          "base_uri": "https://localhost:8080/"
        }
      },
      "source": [
        "metrics = model.evaluate(test_data)                             # Using evaluate method we can verify our model's performance\n",
        "\n",
        "print('Mean absolute error: {}'.format(metrics.meanAbsoluteError))\n",
        "print('Root mean squared error: {}'.format(metrics.rootMeanSquaredError))\n",
        "print('R_squared value: {}'.format(metrics.r2))"
      ],
      "execution_count": 45,
      "outputs": [
        {
          "output_type": "stream",
          "name": "stdout",
          "text": [
            "Mean absolute error: 8.423497686650242\n",
            "Root mean squared error: 10.685910406014816\n",
            "R_squared value: 0.9843528108032875\n"
          ]
        }
      ]
    },
    {
      "cell_type": "markdown",
      "metadata": {
        "id": "VcCSeWV3hb0H"
      },
      "source": [
        "To know more about other operations in pyspark click [here](https://cdn.iisc.talentsprint.com/CDS/cheatSheet_pyspark.pdf)."
      ]
    }
  ]
}